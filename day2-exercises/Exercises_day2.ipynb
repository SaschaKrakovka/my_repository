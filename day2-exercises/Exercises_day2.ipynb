{
 "cells": [
  {
   "cell_type": "markdown",
   "metadata": {},
   "source": [
    "# Exercises day 2"
   ]
  },
  {
   "cell_type": "markdown",
   "metadata": {},
   "source": [
    "Answers by Sascha Krakovka\n",
    "\n",
    "Testing whether the package works:"
   ]
  },
  {
   "cell_type": "code",
   "execution_count": 20,
   "metadata": {},
   "outputs": [
    {
     "name": "stdout",
     "output_type": "stream",
     "text": [
      "Printing members of the Mammals class\n",
      "\tTiger \n",
      "\tElephant \n",
      "\tWild Cat \n",
      "Printing members of the Birds class\n",
      "\tSparrow \n",
      "\tRobin \n",
      "\tDuck \n"
     ]
    }
   ],
   "source": [
    "import animals\n",
    "\n",
    "m = animals.Mammals()\n",
    "m.printMembers()\n",
    "\n",
    "b = animals.Birds()\n",
    "b.printMembers()"
   ]
  },
  {
   "cell_type": "markdown",
   "metadata": {},
   "source": [
    "With another package still all good. \n",
    "Do note that you have to reload a package after fiddling with something in it before it will have effect in the session!"
   ]
  },
  {
   "cell_type": "code",
   "execution_count": 1,
   "metadata": {},
   "outputs": [
    {
     "name": "stdout",
     "output_type": "stream",
     "text": [
      "Printing members of the Mammals class\n",
      "\tTiger \n",
      "\tElephant \n",
      "\tWild Cat \n",
      "Printing members of the Birds class\n",
      "\tSparrow \n",
      "\tRobin \n",
      "\tDuck \n",
      "Printing members of the Fish class\n",
      "\tSalmon \n",
      "\tShark \n",
      "\tTuna \n"
     ]
    }
   ],
   "source": [
    "import animals\n",
    "\n",
    "m = animals.Mammals()\n",
    "m.printMembers()\n",
    "\n",
    "b = animals.Birds()\n",
    "b.printMembers()\n",
    "\n",
    "f = animals.Fish()\n",
    "f.printMembers()"
   ]
  },
  {
   "cell_type": "markdown",
   "metadata": {},
   "source": [
    "And here I implemented the changes needed for 1.f. This structure is the one conserved in my git-hub repository."
   ]
  },
  {
   "cell_type": "code",
   "execution_count": 1,
   "metadata": {},
   "outputs": [
    {
     "name": "stdout",
     "output_type": "stream",
     "text": [
      "Printing members of the Birds class\n",
      "\tSparrow \n",
      "\tRobin \n",
      "\tDuck \n",
      "Printing members of the Fish class\n",
      "\tMarlin \n",
      "\tShark \n",
      "\tMoray \n"
     ]
    }
   ],
   "source": [
    "import animals\n",
    "harmless_birds = animals.harmless.Birds()\n",
    "harmless_birds.printMembers()\n",
    "\n",
    "dangerous_fish = animals.dangerous.Fish()\n",
    "dangerous_fish.printMembers()"
   ]
  },
  {
   "cell_type": "code",
   "execution_count": 2,
   "metadata": {},
   "outputs": [
    {
     "data": {
      "text/plain": [
       "<animals.harmless.birds.Birds at 0x109e3ccd0>"
      ]
     },
     "execution_count": 2,
     "metadata": {},
     "output_type": "execute_result"
    }
   ],
   "source": []
  },
  {
   "cell_type": "code",
   "execution_count": null,
   "metadata": {},
   "outputs": [],
   "source": []
  }
 ],
 "metadata": {
  "kernelspec": {
   "display_name": "Python 3",
   "language": "python",
   "name": "python3"
  },
  "language_info": {
   "codemirror_mode": {
    "name": "ipython",
    "version": 3
   },
   "file_extension": ".py",
   "mimetype": "text/x-python",
   "name": "python",
   "nbconvert_exporter": "python",
   "pygments_lexer": "ipython3",
   "version": "3.7.7"
  }
 },
 "nbformat": 4,
 "nbformat_minor": 4
}
