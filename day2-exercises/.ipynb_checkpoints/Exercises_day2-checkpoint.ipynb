{
 "cells": [
  {
   "cell_type": "markdown",
   "metadata": {},
   "source": [
    "# Exercises day 2"
   ]
  },
  {
   "cell_type": "markdown",
   "metadata": {},
   "source": [
    "Answers by Sascha Krakovka\n",
    "\n",
    "Testing whether the package works:"
   ]
  },
  {
   "cell_type": "code",
   "execution_count": 20,
   "metadata": {},
   "outputs": [
    {
     "name": "stdout",
     "output_type": "stream",
     "text": [
      "Printing members of the Mammals class\n",
      "\tTiger \n",
      "\tElephant \n",
      "\tWild Cat \n",
      "Printing members of the Birds class\n",
      "\tSparrow \n",
      "\tRobin \n",
      "\tDuck \n"
     ]
    }
   ],
   "source": [
    "import animals\n",
    "\n",
    "m = animals.Mammals()\n",
    "m.printMembers()\n",
    "\n",
    "b = animals.Birds()\n",
    "b.printMembers()"
   ]
  },
  {
   "cell_type": "markdown",
   "metadata": {},
   "source": [
    "With another package still all good. \n",
    "Do note that you have to reload a package after fiddling with something in it before it will have effect in the session!"
   ]
  },
  {
   "cell_type": "code",
   "execution_count": 1,
   "metadata": {},
   "outputs": [
    {
     "name": "stdout",
     "output_type": "stream",
     "text": [
      "Printing members of the Mammals class\n",
      "\tTiger \n",
      "\tElephant \n",
      "\tWild Cat \n",
      "Printing members of the Birds class\n",
      "\tSparrow \n",
      "\tRobin \n",
      "\tDuck \n",
      "Printing members of the Fish class\n",
      "\tSalmon \n",
      "\tShark \n",
      "\tTuna \n"
     ]
    }
   ],
   "source": [
    "import animals\n",
    "\n",
    "m = animals.Mammals()\n",
    "m.printMembers()\n",
    "\n",
    "b = animals.Birds()\n",
    "b.printMembers()\n",
    "\n",
    "f = animals.Fish()\n",
    "f.printMembers()"
   ]
  },
  {
   "cell_type": "markdown",
   "metadata": {},
   "source": [
    "And here I implemented the changes needed for 1.f. This structure is the one conserved in my git-hub repository.\n",
    "\n",
    "Possible update if I find the energy: Add the harmless or dangerous to the statement while calling the class."
   ]
  },
  {
   "cell_type": "code",
   "execution_count": 1,
   "metadata": {},
   "outputs": [
    {
     "name": "stdout",
     "output_type": "stream",
     "text": [
      "Printing members of the Birds class\n",
      "\tSparrow \n",
      "\tRobin \n",
      "\tDuck \n",
      "Printing members of the Fish class\n",
      "\tMarlin \n",
      "\tShark \n",
      "\tMoray \n"
     ]
    }
   ],
   "source": [
    "import animals\n",
    "harmless_birds = animals.harmless.Birds()\n",
    "harmless_birds.printMembers()\n",
    "\n",
    "dangerous_fish = animals.dangerous.Fish()\n",
    "dangerous_fish.printMembers()"
   ]
  },
  {
   "cell_type": "markdown",
   "metadata": {},
   "source": [
    "## Below are the code and answers for task 3. Profiling\n",
    "\n",
    "### 3.a"
   ]
  },
  {
   "cell_type": "markdown",
   "metadata": {},
   "source": [
    "When running the c Profiler on matmult.py one can identify that the single most time-intensive process is connected to importing the random module as can be seen below. Other steps connected to time intensive calls are the looped through randint, randrange and range functions. The other functions to not seem to take a great deal of time. \n",
    "\n",
    "#### Result cProfiler for mutmalt.py"
   ]
  },
  {
   "cell_type": "raw",
   "metadata": {},
   "source": [
    "ncalls  tottime  percall  cumtime  percall filename:lineno(function)\n",
    "        1    0.000    0.000    0.000    0.000 __future__.py:48(<module>)\n",
    "        1    0.000    0.000    0.000    0.000 __future__.py:74(_Feature)\n",
    "        7    0.000    0.000    0.000    0.000 __future__.py:75(__init__)\n",
    "        6    0.000    0.000    0.000    0.000 hashlib.py:100(__get_openssl_constructor)\n",
    "        1    0.001    0.001    0.001    0.001 hashlib.py:56(<module>)\n",
    "        1    3.661    3.661    3.862    3.862 matmult.py:2(<module>)\n",
    "        1    0.000    0.000    0.000    0.000 random.py:100(seed)\n",
    "   125250    0.094    0.000    0.101    0.000 random.py:177(randrange)\n",
    "   125250    0.037    0.000    0.138    0.000 random.py:240(randint)\n",
    "        1    0.004    0.004    0.005    0.005 random.py:40(<module>)\n",
    "        1    0.000    0.000    0.000    0.000 random.py:657(WichmannHill)\n",
    "        1    0.000    0.000    0.000    0.000 random.py:72(Random)\n",
    "        1    0.000    0.000    0.000    0.000 random.py:807(SystemRandom)\n",
    "        1    0.000    0.000    0.000    0.000 random.py:91(__init__)\n",
    "        1    0.000    0.000    0.000    0.000 {_hashlib.openssl_md5}\n",
    "        1    0.000    0.000    0.000    0.000 {_hashlib.openssl_sha1}\n",
    "        1    0.000    0.000    0.000    0.000 {_hashlib.openssl_sha224}\n",
    "        1    0.000    0.000    0.000    0.000 {_hashlib.openssl_sha256}\n",
    "        1    0.000    0.000    0.000    0.000 {_hashlib.openssl_sha384}\n",
    "        1    0.000    0.000    0.000    0.000 {_hashlib.openssl_sha512}\n",
    "        1    0.000    0.000    0.000    0.000 {binascii.hexlify}\n",
    "        1    0.000    0.000    0.000    0.000 {function seed at 0x10a548230}\n",
    "        6    0.000    0.000    0.000    0.000 {getattr}\n",
    "        6    0.000    0.000    0.000    0.000 {globals}\n",
    "    63001    0.003    0.000    0.003    0.000 {len}\n",
    "        1    0.000    0.000    0.000    0.000 {math.exp}\n",
    "        2    0.000    0.000    0.000    0.000 {math.log}\n",
    "        1    0.000    0.000    0.000    0.000 {math.sqrt}\n",
    "      750    0.000    0.000    0.000    0.000 {method 'append' of 'list' objects}\n",
    "        1    0.000    0.000    0.000    0.000 {method 'disable' of '_lsprof.Profiler' objects}\n",
    "   125250    0.007    0.000    0.007    0.000 {method 'random' of '_random.Random' objects}\n",
    "        1    0.000    0.000    0.000    0.000 {method 'union' of 'set' objects}\n",
    "        1    0.000    0.000    0.000    0.000 {posix.urandom}\n",
    "    63504    0.054    0.000    0.054    0.000 {range}\n"
   ]
  },
  {
   "cell_type": "code",
   "execution_count": null,
   "metadata": {
    "collapsed": true
   },
   "outputs": [],
   "source": []
  },
  {
   "cell_type": "code",
   "execution_count": 2,
   "metadata": {},
   "outputs": [
    {
     "ename": "NameError",
     "evalue": "name 'X' is not defined",
     "output_type": "error",
     "traceback": [
      "\u001b[0;31m---------------------------------------------------------------------------\u001b[0m",
      "\u001b[0;31mNameError\u001b[0m                                 Traceback (most recent call last)",
      "\u001b[0;32m<ipython-input-2-2a29d1e6b95c>\u001b[0m in \u001b[0;36m<module>\u001b[0;34m\u001b[0m\n\u001b[1;32m      1\u001b[0m \u001b[0;32mimport\u001b[0m \u001b[0mnumpy\u001b[0m \u001b[0;32mas\u001b[0m \u001b[0mnp\u001b[0m\u001b[0;34m\u001b[0m\u001b[0;34m\u001b[0m\u001b[0m\n\u001b[0;32m----> 2\u001b[0;31m \u001b[0;32mfrom\u001b[0m \u001b[0mmatmult2\u001b[0m \u001b[0;32mimport\u001b[0m \u001b[0mcreateX\u001b[0m\u001b[0;34m\u001b[0m\u001b[0;34m\u001b[0m\u001b[0m\n\u001b[0m\u001b[1;32m      3\u001b[0m \u001b[0;31m#%lprun -f createX createX(10)\u001b[0m\u001b[0;34m\u001b[0m\u001b[0;34m\u001b[0m\u001b[0;34m\u001b[0m\u001b[0m\n\u001b[1;32m      4\u001b[0m \u001b[0mcreateX\u001b[0m\u001b[0;34m(\u001b[0m\u001b[0;36m10\u001b[0m\u001b[0;34m)\u001b[0m\u001b[0;34m\u001b[0m\u001b[0;34m\u001b[0m\u001b[0m\n",
      "\u001b[0;32m~/PHD/Kurse/Advanced Python/my_repository/day2-exercises/matmult2.py\u001b[0m in \u001b[0;36m<module>\u001b[0;34m\u001b[0m\n\u001b[1;32m     29\u001b[0m \u001b[0;34m\u001b[0m\u001b[0m\n\u001b[1;32m     30\u001b[0m \u001b[0;31m# iterate through rows of X\u001b[0m\u001b[0;34m\u001b[0m\u001b[0;34m\u001b[0m\u001b[0;34m\u001b[0m\u001b[0m\n\u001b[0;32m---> 31\u001b[0;31m \u001b[0;32mfor\u001b[0m \u001b[0mi\u001b[0m \u001b[0;32min\u001b[0m \u001b[0mrange\u001b[0m\u001b[0;34m(\u001b[0m\u001b[0mlen\u001b[0m\u001b[0;34m(\u001b[0m\u001b[0mX\u001b[0m\u001b[0;34m)\u001b[0m\u001b[0;34m)\u001b[0m\u001b[0;34m:\u001b[0m\u001b[0;34m\u001b[0m\u001b[0;34m\u001b[0m\u001b[0m\n\u001b[0m\u001b[1;32m     32\u001b[0m     \u001b[0;31m# iterate through columns of Y\u001b[0m\u001b[0;34m\u001b[0m\u001b[0;34m\u001b[0m\u001b[0;34m\u001b[0m\u001b[0m\n\u001b[1;32m     33\u001b[0m     \u001b[0;32mfor\u001b[0m \u001b[0mj\u001b[0m \u001b[0;32min\u001b[0m \u001b[0mrange\u001b[0m\u001b[0;34m(\u001b[0m\u001b[0mlen\u001b[0m\u001b[0;34m(\u001b[0m\u001b[0mY\u001b[0m\u001b[0;34m[\u001b[0m\u001b[0;36m0\u001b[0m\u001b[0;34m]\u001b[0m\u001b[0;34m)\u001b[0m\u001b[0;34m)\u001b[0m\u001b[0;34m:\u001b[0m\u001b[0;34m\u001b[0m\u001b[0;34m\u001b[0m\u001b[0m\n",
      "\u001b[0;31mNameError\u001b[0m: name 'X' is not defined"
     ]
    }
   ],
   "source": [
    "import numpy as np\n",
    "from matmult2 import createX\n",
    "#%lprun -f createX createX(10)\n",
    "createX(10)"
   ]
  },
  {
   "cell_type": "code",
   "execution_count": 14,
   "metadata": {},
   "outputs": [
    {
     "name": "stdout",
     "output_type": "stream",
     "text": [
      "[[61, 85, 49, 53, 61, 51, 93, 84, 11, 81], [93, 49, 47, 85, 95, 19, 92, 56, 9, 28], [7, 19, 63, 44, 73, 40, 21, 54, 61, 0], [69, 25, 11, 83, 8, 74, 85, 38, 15, 19], [67, 73, 44, 62, 61, 94, 84, 50, 100, 17], [62, 37, 56, 53, 16, 25, 13, 24, 53, 96], [70, 23, 72, 100, 86, 55, 89, 16, 98, 47], [94, 67, 88, 7, 68, 28, 61, 3, 49, 50], [25, 12, 58, 67, 49, 48, 1, 39, 26, 92], [64, 34, 16, 7, 13, 90, 56, 4, 11, 6]]\n"
     ]
    }
   ],
   "source": [
    "import random\n",
    "N=10\n",
    "\n",
    "X = []\n",
    "for i in range(N):\n",
    "    X.append([random.randint(0,100) for r in range(N)])\n",
    "print(X)"
   ]
  },
  {
   "cell_type": "code",
   "execution_count": 15,
   "metadata": {},
   "outputs": [],
   "source": [
    "def createY(N):\n",
    "    Y = []\n",
    "    for i in range(N):\n",
    "        Y.append([random.randint(0,100) for r in range(N+1)])\n",
    "    return Y\n"
   ]
  },
  {
   "cell_type": "code",
   "execution_count": 16,
   "metadata": {},
   "outputs": [
    {
     "ename": "NameError",
     "evalue": "name 'Y' is not defined",
     "output_type": "error",
     "traceback": [
      "\u001b[0;31m---------------------------------------------------------------------------\u001b[0m",
      "\u001b[0;31mNameError\u001b[0m                                 Traceback (most recent call last)",
      "\u001b[0;32m<ipython-input-16-7e2e2290c7c0>\u001b[0m in \u001b[0;36m<module>\u001b[0;34m\u001b[0m\n\u001b[1;32m      2\u001b[0m \u001b[0;34m\u001b[0m\u001b[0m\n\u001b[1;32m      3\u001b[0m \u001b[0mcreateY\u001b[0m\u001b[0;34m(\u001b[0m\u001b[0;36m20\u001b[0m\u001b[0;34m)\u001b[0m\u001b[0;34m\u001b[0m\u001b[0;34m\u001b[0m\u001b[0m\n\u001b[0;32m----> 4\u001b[0;31m \u001b[0mprint\u001b[0m\u001b[0;34m(\u001b[0m\u001b[0mY\u001b[0m\u001b[0;34m)\u001b[0m\u001b[0;34m\u001b[0m\u001b[0;34m\u001b[0m\u001b[0m\n\u001b[0m",
      "\u001b[0;31mNameError\u001b[0m: name 'Y' is not defined"
     ]
    }
   ],
   "source": [
    "#from matmult2 import createY \n",
    "\n",
    "createY(20)\n",
    "print(Y)"
   ]
  },
  {
   "cell_type": "markdown",
   "metadata": {},
   "source": [
    "### 3.b\n",
    "\n",
    "\n",
    "Starting off with profiling in python, second in interactive python. Memory usage look like this for euler72 in terminal."
   ]
  },
  {
   "cell_type": "raw",
   "metadata": {},
   "source": [
    "Filename: euler72.py\n",
    "\n",
    "Line #    Mem usage    Increment   Line Contents\n",
    "================================================\n",
    "     4   37.109 MiB   37.109 MiB   @profile\n",
    "     5                             def gen_primes(n):\n",
    "     6   37.109 MiB    0.000 MiB       l = range(2,n)\n",
    "     7   37.109 MiB    0.000 MiB       primes = []\n",
    "     8   37.145 MiB    0.000 MiB       for j in range(0,len(l)):\n",
    "     9   37.145 MiB    0.012 MiB           p = True\n",
    "    10   37.145 MiB    0.000 MiB           for d in primes:\n",
    "    11   37.145 MiB    0.012 MiB               if(d > sqrt(l[j])):\n",
    "    12   37.145 MiB    0.000 MiB                   break\n",
    "    13   37.145 MiB    0.012 MiB               if(l[j] % d == 0):\n",
    "    14   37.145 MiB    0.000 MiB                   p = False\n",
    "    15   37.145 MiB    0.000 MiB                   break;\n",
    "    16   37.145 MiB    0.000 MiB           if(p):\n",
    "    17   37.145 MiB    0.000 MiB               primes.append(l[j])\n",
    "    18                             \n",
    "    19   37.145 MiB    0.000 MiB       return primes\n",
    "\n",
    "\n",
    "Filename: euler72.py\n",
    "\n",
    "Line #    Mem usage    Increment   Line Contents\n",
    "================================================\n",
    "    21   37.145 MiB   37.145 MiB   @profile\n",
    "    22                             def factorize(n,primes):\n",
    "    23   37.145 MiB    0.000 MiB       factors = []\n",
    "    24   37.145 MiB    0.000 MiB       init_n = n\n",
    "    25   37.145 MiB    0.000 MiB       for p in primes:\n",
    "    26   37.145 MiB    0.000 MiB           while(n%p == 0):\n",
    "    27   37.145 MiB    0.000 MiB               n = n/p\n",
    "    28   37.145 MiB    0.000 MiB               factors.append(p)\n",
    "    29   37.145 MiB    0.000 MiB           if(p > sqrt(n)):\n",
    "    30   37.145 MiB    0.000 MiB               break\n",
    "    31   37.145 MiB    0.000 MiB       if(n > 1):\n",
    "    32   37.145 MiB    0.000 MiB           factors.append(n)\n",
    "    33   37.145 MiB    0.000 MiB       return factors\n",
    "\n",
    "\n",
    "Filename: euler72.py\n",
    "\n",
    "Line #    Mem usage    Increment   Line Contents\n",
    "================================================\n",
    "    50   37.145 MiB   37.145 MiB   @profile\n",
    "    51                             def fast_phi(n,primes):\n",
    "    52   37.145 MiB   37.145 MiB       factors = factorize(n,primes)\n",
    "    53   37.145 MiB    0.000 MiB       phi = factors[0]-1\n",
    "    54   37.145 MiB    0.000 MiB       for i in range(1,len(factors)):\n",
    "    55   37.145 MiB    0.000 MiB           if(factors[i] == factors[i-1]):\n",
    "    56   37.145 MiB    0.000 MiB               phi *= (factors[i]-1)*(factors[i])/(factors[i]-1)\n",
    "    57                                     else:\n",
    "    58   37.145 MiB    0.000 MiB               phi *= (factors[i]-1)\n",
    "    59   37.145 MiB    0.000 MiB       return phi\n",
    "\n",
    "\n"
   ]
  },
  {
   "cell_type": "markdown",
   "metadata": {},
   "source": [
    "While performance looks like this:"
   ]
  },
  {
   "cell_type": "raw",
   "metadata": {},
   "source": [
    "Timer unit: 1e-06 s\n",
    "\n",
    "Total time: 0.006232 s\n",
    "File: euler72.py\n",
    "Function: gen_primes at line 4\n",
    "\n",
    "Line #      Hits         Time  Per Hit   % Time  Line Contents\n",
    "==============================================================\n",
    "     4                                           @profile\n",
    "     5                                           def gen_primes(n):\n",
    "     6         1          6.0      6.0      0.1      l = range(2,n)\n",
    "     7         1          1.0      1.0      0.0      primes = []\n",
    "     8       999        348.0      0.3      5.6      for j in range(0,len(l)):\n",
    "     9       998        329.0      0.3      5.3          p = True\n",
    "    10      2968       1045.0      0.4     16.8          for d in primes:\n",
    "    11      2967       1866.0      0.6     29.9              if(d > sqrt(l[j])):\n",
    "    12       167         55.0      0.3      0.9                  break\n",
    "    13      2800       1520.0      0.5     24.4              if(l[j] % d == 0):\n",
    "    14       830        291.0      0.4      4.7                  p = False\n",
    "    15       830        313.0      0.4      5.0                  break;\n",
    "    16       998        357.0      0.4      5.7          if(p):\n",
    "    17       168        101.0      0.6      1.6              primes.append(l[j])\n",
    "    18                                           \n",
    "    19         1          0.0      0.0      0.0      return primes\n",
    "\n",
    "Total time: 0.159606 s\n",
    "File: euler72.py\n",
    "Function: factorize at line 21\n",
    "\n",
    "Line #      Hits         Time  Per Hit   % Time  Line Contents\n",
    "==============================================================\n",
    "    21                                           @profile\n",
    "    22                                           def factorize(n,primes):\n",
    "    23      9999       3260.0      0.3      2.0      factors = []\n",
    "    24      9999       3122.0      0.3      2.0      init_n = n\n",
    "    25     96347      30455.0      0.3     19.1      for p in primes:\n",
    "    26    118736      50999.0      0.4     32.0          while(n%p == 0):\n",
    "    27     22389       8172.0      0.4      5.1              n = n/p\n",
    "    28     22389       9353.0      0.4      5.9              factors.append(p)\n",
    "    29     96347      40035.0      0.4     25.1          if(p > sqrt(n)):\n",
    "    30      9999       3344.0      0.3      2.1              break\n",
    "    31      9999       3763.0      0.4      2.4      if(n > 1):\n",
    "    32      9596       3944.0      0.4      2.5          factors.append(n)\n",
    "    33      9999       3159.0      0.3      2.0      return factors\n",
    "\n",
    "Total time: 0.333509 s\n",
    "File: euler72.py\n",
    "Function: fast_phi at line 50\n",
    "\n",
    "Line #      Hits         Time  Per Hit   % Time  Line Contents\n",
    "==============================================================\n",
    "    50                                           @profile\n",
    "    51                                           def fast_phi(n,primes):\n",
    "    52      9999     288321.0     28.8     86.5      factors = factorize(n,primes)\n",
    "    53      9999       4076.0      0.4      1.2      phi = factors[0]-1\n",
    "    54     31985      15379.0      0.5      4.6      for i in range(1,len(factors)):\n",
    "    55     21986      11014.0      0.5      3.3          if(factors[i] == factors[i-1]):\n",
    "    56      7685       4967.0      0.6      1.5              phi *= (factors[i]-1)*(factors[i])/(factors[i]-1)\n",
    "    57                                                   else:\n",
    "    58     14301       6619.0      0.5      2.0              phi *= (factors[i]-1)\n",
    "    59      9999       3133.0      0.3      0.9      return phi\n",
    "\n"
   ]
  },
  {
   "cell_type": "markdown",
   "metadata": {},
   "source": [
    "Loading of memory_profiler and line_profiler into interactive python:"
   ]
  },
  {
   "cell_type": "code",
   "execution_count": 1,
   "metadata": {},
   "outputs": [],
   "source": [
    "%load_ext memory_profiler\n",
    "%load_ext line_profiler"
   ]
  },
  {
   "cell_type": "code",
   "execution_count": 3,
   "metadata": {},
   "outputs": [
    {
     "name": "stdout",
     "output_type": "stream",
     "text": [
      "30397485.0\n",
      "\n"
     ]
    }
   ],
   "source": [
    "from euler72 import gen_primes\n",
    "%mprun -f gen_primes gen_primes(100)"
   ]
  },
  {
   "cell_type": "raw",
   "metadata": {},
   "source": [
    "Filename: /Users/saskr638/PHD/Kurse/Advanced Python/my_repository/day2-exercises/euler72.py\n",
    "\n",
    "Line #    Mem usage    Increment   Line Contents\n",
    "================================================\n",
    "     6     45.6 MiB     45.6 MiB   def gen_primes(n):\n",
    "     7     45.6 MiB      0.0 MiB       l = range(2,n)\n",
    "     8     45.6 MiB      0.0 MiB       primes = []\n",
    "     9     45.6 MiB      0.0 MiB       for j in range(0,len(l)):\n",
    "    10     45.6 MiB      0.0 MiB           p = True\n",
    "    11     45.6 MiB      0.0 MiB           for d in primes:\n",
    "    12     45.6 MiB      0.0 MiB               if(d > sqrt(l[j])):\n",
    "    13     45.6 MiB      0.0 MiB                   break\n",
    "    14     45.6 MiB      0.0 MiB               if(l[j] % d == 0):\n",
    "    15     45.6 MiB      0.0 MiB                   p = False\n",
    "    16     45.6 MiB      0.0 MiB                   break;\n",
    "    17     45.6 MiB      0.0 MiB           if(p):\n",
    "    18     45.6 MiB      0.0 MiB               primes.append(l[j])\n",
    "    19                             \n",
    "    20     45.6 MiB      0.0 MiB       return primes"
   ]
  },
  {
   "cell_type": "code",
   "execution_count": 5,
   "metadata": {},
   "outputs": [],
   "source": [
    "%lprun -f gen_primes gen_primes(1000)"
   ]
  },
  {
   "cell_type": "raw",
   "metadata": {},
   "source": [
    "Timer unit: 1e-06 s\n",
    "\n",
    "Total time: 0.008526 s\n",
    "File: /Users/saskr638/PHD/Kurse/Advanced Python/my_repository/day2-exercises/euler72.py\n",
    "Function: gen_primes at line 6\n",
    "\n",
    "Line #      Hits         Time  Per Hit   % Time  Line Contents\n",
    "==============================================================\n",
    "     6                                           def gen_primes(n):\n",
    "     7         1          4.0      4.0      0.0      l = range(2,n)\n",
    "     8         1          1.0      1.0      0.0      primes = []\n",
    "     9       999        506.0      0.5      5.9      for j in range(0,len(l)):\n",
    "    10       998        450.0      0.5      5.3          p = True\n",
    "    11      2968       1443.0      0.5     16.9          for d in primes:\n",
    "    12      2967       2573.0      0.9     30.2              if(d > sqrt(l[j])):\n",
    "    13       167         81.0      0.5      1.0                  break\n",
    "    14      2800       2179.0      0.8     25.6              if(l[j] % d == 0):\n",
    "    15       830        353.0      0.4      4.1                  p = False\n",
    "    16       830        352.0      0.4      4.1                  break;\n",
    "    17       998        439.0      0.4      5.1          if(p):\n",
    "    18       168        145.0      0.9      1.7              primes.append(l[j])\n",
    "    19                                           \n",
    "    20         1          0.0      0.0      0.0      return primes"
   ]
  },
  {
   "cell_type": "code",
   "execution_count": 8,
   "metadata": {},
   "outputs": [
    {
     "name": "stdout",
     "output_type": "stream",
     "text": [
      "\n"
     ]
    }
   ],
   "source": [
    "from euler72 import factorize\n",
    "a = gen_primes(1000)\n",
    "%mprun -f factorize factorize(1000,a)"
   ]
  },
  {
   "cell_type": "raw",
   "metadata": {},
   "source": [
    "Filename: /Users/saskr638/PHD/Kurse/Advanced Python/my_repository/day2-exercises/euler72.py\n",
    "\n",
    "Line #    Mem usage    Increment   Line Contents\n",
    "================================================\n",
    "    23     45.7 MiB     45.7 MiB   def factorize(n,primes):\n",
    "    24     45.7 MiB      0.0 MiB       factors = []\n",
    "    25     45.7 MiB      0.0 MiB       init_n = n\n",
    "    26     45.7 MiB      0.0 MiB       for p in primes:\n",
    "    27     45.7 MiB      0.0 MiB           while(n%p == 0):\n",
    "    28     45.7 MiB      0.0 MiB               n = n/p\n",
    "    29     45.7 MiB      0.0 MiB               factors.append(p)\n",
    "    30     45.7 MiB      0.0 MiB           if(p > sqrt(n)):\n",
    "    31     45.7 MiB      0.0 MiB               break\n",
    "    32     45.7 MiB      0.0 MiB       if(n > 1):\n",
    "    33                                     factors.append(n)\n",
    "    34     45.7 MiB      0.0 MiB       return factors"
   ]
  },
  {
   "cell_type": "code",
   "execution_count": 11,
   "metadata": {},
   "outputs": [],
   "source": [
    "%lprun -f factorize factorize(1000,a)"
   ]
  },
  {
   "cell_type": "raw",
   "metadata": {},
   "source": [
    "Timer unit: 1e-06 s\n",
    "\n",
    "Total time: 1.9e-05 s\n",
    "File: /Users/saskr638/PHD/Kurse/Advanced Python/my_repository/day2-exercises/euler72.py\n",
    "Function: factorize at line 23\n",
    "\n",
    "Line #      Hits         Time  Per Hit   % Time  Line Contents\n",
    "==============================================================\n",
    "    23                                           def factorize(n,primes):\n",
    "    24         1          1.0      1.0      5.3      factors = []\n",
    "    25         1          1.0      1.0      5.3      init_n = n\n",
    "    26         3          1.0      0.3      5.3      for p in primes:\n",
    "    27         7          6.0      0.9     31.6          while(n%p == 0):\n",
    "    28         4          3.0      0.8     15.8              n = n/p\n",
    "    29         4          4.0      1.0     21.1              factors.append(p)\n",
    "    30         3          2.0      0.7     10.5          if(p > sqrt(n)):\n",
    "    31         1          1.0      1.0      5.3              break\n",
    "    32         1          0.0      0.0      0.0      if(n > 1):\n",
    "    33                                                   factors.append(n)\n",
    "    34         1          0.0      0.0      0.0      return factors"
   ]
  },
  {
   "cell_type": "code",
   "execution_count": 12,
   "metadata": {},
   "outputs": [
    {
     "name": "stdout",
     "output_type": "stream",
     "text": [
      "\n"
     ]
    }
   ],
   "source": [
    "from euler72 import fast_phi\n",
    "%mprun -f fast_phi fast_phi(1000,a)"
   ]
  },
  {
   "cell_type": "raw",
   "metadata": {},
   "source": [
    "Filename: /Users/saskr638/PHD/Kurse/Advanced Python/my_repository/day2-exercises/euler72.py\n",
    "\n",
    "Line #    Mem usage    Increment   Line Contents\n",
    "================================================\n",
    "    52     79.6 MiB     79.6 MiB   def fast_phi(n,primes):\n",
    "    53     79.6 MiB      0.0 MiB       factors = factorize(n,primes)\n",
    "    54     79.6 MiB      0.0 MiB       phi = factors[0]-1\n",
    "    55     79.6 MiB      0.0 MiB       for i in range(1,len(factors)):\n",
    "    56     79.6 MiB      0.0 MiB           if(factors[i] == factors[i-1]):\n",
    "    57     79.6 MiB      0.0 MiB               phi *= (factors[i]-1)*(factors[i])/(factors[i]-1)\n",
    "    58                                     else:\n",
    "    59     79.6 MiB      0.0 MiB               phi *= (factors[i]-1)\n",
    "    60     79.6 MiB      0.0 MiB       return phi"
   ]
  },
  {
   "cell_type": "code",
   "execution_count": 13,
   "metadata": {},
   "outputs": [],
   "source": [
    "%lprun -f fast_phi fast_phi(1000,a)"
   ]
  },
  {
   "cell_type": "raw",
   "metadata": {},
   "source": [
    "Timer unit: 1e-06 s\n",
    "\n",
    "Total time: 2.8e-05 s\n",
    "File: /Users/saskr638/PHD/Kurse/Advanced Python/my_repository/day2-exercises/euler72.py\n",
    "Function: fast_phi at line 52\n",
    "\n",
    "Line #      Hits         Time  Per Hit   % Time  Line Contents\n",
    "==============================================================\n",
    "    52                                           def fast_phi(n,primes):\n",
    "    53         1         16.0     16.0     57.1      factors = factorize(n,primes)\n",
    "    54         1          1.0      1.0      3.6      phi = factors[0]-1\n",
    "    55         6          3.0      0.5     10.7      for i in range(1,len(factors)):\n",
    "    56         5          3.0      0.6     10.7          if(factors[i] == factors[i-1]):\n",
    "    57         4          4.0      1.0     14.3              phi *= (factors[i]-1)*(factors[i])/(factors[i]-1)\n",
    "    58                                                   else:\n",
    "    59         1          1.0      1.0      3.6              phi *= (factors[i]-1)\n",
    "    60         1          0.0      0.0      0.0      return phi"
   ]
  },
  {
   "cell_type": "markdown",
   "metadata": {},
   "source": [
    "All in all one can see that both memory usage and time usage follow the same trends when looking at them in python and interactive python. However, the exact proportions of which parts take how much time and memory differ a bit.\n",
    "\n",
    "If I were to optimise the euler72 script for speed I would start looking at the factorize function since it alone takes more than 80% of the time of the entire script. Within that function the for and while loops seems a good starting point, taking in turn most of the total time of the factorize function. \n",
    "\n",
    "\n",
    "Memory wise the creation of primes takes most space, hence less primes are the easiest way forward if you have space issues."
   ]
  },
  {
   "cell_type": "markdown",
   "metadata": {},
   "source": [
    "### 3.c\n",
    "\n",
    "The best performance for the matmult.py script I could achieve was \n",
    "\n",
    "The script can be found in the same directpry as this notebook and is called matmult2.py."
   ]
  },
  {
   "cell_type": "code",
   "execution_count": null,
   "metadata": {},
   "outputs": [],
   "source": []
  }
 ],
 "metadata": {
  "kernelspec": {
   "display_name": "Python 3",
   "language": "python",
   "name": "python3"
  },
  "language_info": {
   "codemirror_mode": {
    "name": "ipython",
    "version": 3
   },
   "file_extension": ".py",
   "mimetype": "text/x-python",
   "name": "python",
   "nbconvert_exporter": "python",
   "pygments_lexer": "ipython3",
   "version": "3.7.7"
  }
 },
 "nbformat": 4,
 "nbformat_minor": 4
}
